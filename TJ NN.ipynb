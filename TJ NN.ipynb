{
 "cells": [
  {
   "cell_type": "markdown",
   "metadata": {},
   "source": [
    "# Tommy John Neural Network"
   ]
  },
  {
   "cell_type": "code",
   "execution_count": 200,
   "metadata": {},
   "outputs": [],
   "source": [
    "import pandas as pd\n",
    "import numpy as np\n",
    "from matplotlib import pyplot as plt"
   ]
  },
  {
   "cell_type": "code",
   "execution_count": 201,
   "metadata": {},
   "outputs": [],
   "source": [
    "\n",
    "df_train = pd.read_csv('/Users/timmorales/Desktop/STAT 6341/Tommy John Project/Data/SMOTETRAIN.csv')\n",
    "df_test = pd.read_csv('/Users/timmorales/Desktop/STAT 6341/Tommy John Project/Data/testset.csv')\n",
    "\n",
    "df_test = df_test.drop(df_test.columns[0], axis=1)\n",
    "df_train = df_train.drop(df_train.columns[0], axis=1)"
   ]
  },
  {
   "cell_type": "code",
   "execution_count": 202,
   "metadata": {},
   "outputs": [],
   "source": [
    "from copy import deepcopy\n",
    "df_train = deepcopy(df_train)\n",
    "df_test = deepcopy(df_test)"
   ]
  },
  {
   "cell_type": "code",
   "execution_count": 203,
   "metadata": {},
   "outputs": [
    {
     "data": {
      "text/html": [
       "<div>\n",
       "<style scoped>\n",
       "    .dataframe tbody tr th:only-of-type {\n",
       "        vertical-align: middle;\n",
       "    }\n",
       "\n",
       "    .dataframe tbody tr th {\n",
       "        vertical-align: top;\n",
       "    }\n",
       "\n",
       "    .dataframe thead th {\n",
       "        text-align: right;\n",
       "    }\n",
       "</style>\n",
       "<table border=\"1\" class=\"dataframe\">\n",
       "  <thead>\n",
       "    <tr style=\"text-align: right;\">\n",
       "      <th></th>\n",
       "      <th>player_age</th>\n",
       "      <th>p_game</th>\n",
       "      <th>xba</th>\n",
       "      <th>xslg</th>\n",
       "      <th>xwoba</th>\n",
       "      <th>xobp</th>\n",
       "      <th>xiso</th>\n",
       "      <th>exit_velocity_avg</th>\n",
       "      <th>launch_angle_avg</th>\n",
       "      <th>barrel_batted_rate</th>\n",
       "      <th>...</th>\n",
       "      <th>bats_L</th>\n",
       "      <th>bats_R</th>\n",
       "      <th>throws_L</th>\n",
       "      <th>throws_R</th>\n",
       "      <th>throws_S</th>\n",
       "      <th>TJ_Yes</th>\n",
       "      <th>made_postseason_X0</th>\n",
       "      <th>made_postseason_X1</th>\n",
       "      <th>warm_birth_place_X0</th>\n",
       "      <th>warm_birth_place_X1</th>\n",
       "    </tr>\n",
       "  </thead>\n",
       "  <tbody>\n",
       "    <tr>\n",
       "      <td>0</td>\n",
       "      <td>0.449343</td>\n",
       "      <td>0.271899</td>\n",
       "      <td>-0.236873</td>\n",
       "      <td>-0.433236</td>\n",
       "      <td>-0.346471</td>\n",
       "      <td>-0.221791</td>\n",
       "      <td>-0.481580</td>\n",
       "      <td>-0.455052</td>\n",
       "      <td>-0.622586</td>\n",
       "      <td>-0.331504</td>\n",
       "      <td>...</td>\n",
       "      <td>0</td>\n",
       "      <td>1</td>\n",
       "      <td>0</td>\n",
       "      <td>1</td>\n",
       "      <td>0</td>\n",
       "      <td>0</td>\n",
       "      <td>0</td>\n",
       "      <td>1</td>\n",
       "      <td>1</td>\n",
       "      <td>0</td>\n",
       "    </tr>\n",
       "    <tr>\n",
       "      <td>1</td>\n",
       "      <td>-0.366322</td>\n",
       "      <td>-1.198887</td>\n",
       "      <td>2.683901</td>\n",
       "      <td>2.403073</td>\n",
       "      <td>2.954865</td>\n",
       "      <td>3.126211</td>\n",
       "      <td>1.774630</td>\n",
       "      <td>0.644949</td>\n",
       "      <td>0.078895</td>\n",
       "      <td>1.192009</td>\n",
       "      <td>...</td>\n",
       "      <td>0</td>\n",
       "      <td>1</td>\n",
       "      <td>0</td>\n",
       "      <td>1</td>\n",
       "      <td>0</td>\n",
       "      <td>0</td>\n",
       "      <td>1</td>\n",
       "      <td>0</td>\n",
       "      <td>1</td>\n",
       "      <td>0</td>\n",
       "    </tr>\n",
       "    <tr>\n",
       "      <td>2</td>\n",
       "      <td>-0.366322</td>\n",
       "      <td>-1.151442</td>\n",
       "      <td>1.147790</td>\n",
       "      <td>0.499249</td>\n",
       "      <td>1.177223</td>\n",
       "      <td>1.071755</td>\n",
       "      <td>-0.010346</td>\n",
       "      <td>1.103283</td>\n",
       "      <td>-2.676924</td>\n",
       "      <td>-0.625515</td>\n",
       "      <td>...</td>\n",
       "      <td>0</td>\n",
       "      <td>1</td>\n",
       "      <td>0</td>\n",
       "      <td>1</td>\n",
       "      <td>0</td>\n",
       "      <td>0</td>\n",
       "      <td>1</td>\n",
       "      <td>0</td>\n",
       "      <td>1</td>\n",
       "      <td>0</td>\n",
       "    </tr>\n",
       "    <tr>\n",
       "      <td>3</td>\n",
       "      <td>2.624452</td>\n",
       "      <td>-1.056553</td>\n",
       "      <td>1.364144</td>\n",
       "      <td>2.558488</td>\n",
       "      <td>2.555803</td>\n",
       "      <td>2.498461</td>\n",
       "      <td>2.859896</td>\n",
       "      <td>-0.363385</td>\n",
       "      <td>1.565368</td>\n",
       "      <td>-0.090950</td>\n",
       "      <td>...</td>\n",
       "      <td>0</td>\n",
       "      <td>1</td>\n",
       "      <td>0</td>\n",
       "      <td>1</td>\n",
       "      <td>0</td>\n",
       "      <td>0</td>\n",
       "      <td>1</td>\n",
       "      <td>0</td>\n",
       "      <td>0</td>\n",
       "      <td>1</td>\n",
       "    </tr>\n",
       "    <tr>\n",
       "      <td>4</td>\n",
       "      <td>1.536897</td>\n",
       "      <td>-0.961663</td>\n",
       "      <td>0.282376</td>\n",
       "      <td>-0.180688</td>\n",
       "      <td>-0.001826</td>\n",
       "      <td>0.025505</td>\n",
       "      <td>-0.453021</td>\n",
       "      <td>0.599116</td>\n",
       "      <td>0.245915</td>\n",
       "      <td>-0.625515</td>\n",
       "      <td>...</td>\n",
       "      <td>1</td>\n",
       "      <td>0</td>\n",
       "      <td>1</td>\n",
       "      <td>0</td>\n",
       "      <td>0</td>\n",
       "      <td>0</td>\n",
       "      <td>1</td>\n",
       "      <td>0</td>\n",
       "      <td>0</td>\n",
       "      <td>1</td>\n",
       "    </tr>\n",
       "  </tbody>\n",
       "</table>\n",
       "<p>5 rows × 337 columns</p>\n",
       "</div>"
      ],
      "text/plain": [
       "   player_age    p_game       xba      xslg     xwoba      xobp      xiso  \\\n",
       "0    0.449343  0.271899 -0.236873 -0.433236 -0.346471 -0.221791 -0.481580   \n",
       "1   -0.366322 -1.198887  2.683901  2.403073  2.954865  3.126211  1.774630   \n",
       "2   -0.366322 -1.151442  1.147790  0.499249  1.177223  1.071755 -0.010346   \n",
       "3    2.624452 -1.056553  1.364144  2.558488  2.555803  2.498461  2.859896   \n",
       "4    1.536897 -0.961663  0.282376 -0.180688 -0.001826  0.025505 -0.453021   \n",
       "\n",
       "   exit_velocity_avg  launch_angle_avg  barrel_batted_rate  ...  bats_L  \\\n",
       "0          -0.455052         -0.622586           -0.331504  ...       0   \n",
       "1           0.644949          0.078895            1.192009  ...       0   \n",
       "2           1.103283         -2.676924           -0.625515  ...       0   \n",
       "3          -0.363385          1.565368           -0.090950  ...       0   \n",
       "4           0.599116          0.245915           -0.625515  ...       1   \n",
       "\n",
       "   bats_R  throws_L  throws_R  throws_S  TJ_Yes  made_postseason_X0  \\\n",
       "0       1         0         1         0       0                   0   \n",
       "1       1         0         1         0       0                   1   \n",
       "2       1         0         1         0       0                   1   \n",
       "3       1         0         1         0       0                   1   \n",
       "4       0         1         0         0       0                   1   \n",
       "\n",
       "   made_postseason_X1  warm_birth_place_X0  warm_birth_place_X1  \n",
       "0                   1                    1                    0  \n",
       "1                   0                    1                    0  \n",
       "2                   0                    1                    0  \n",
       "3                   0                    0                    1  \n",
       "4                   0                    0                    1  \n",
       "\n",
       "[5 rows x 337 columns]"
      ]
     },
     "execution_count": 203,
     "metadata": {},
     "output_type": "execute_result"
    }
   ],
   "source": [
    "df_train.head()"
   ]
  },
  {
   "cell_type": "code",
   "execution_count": 204,
   "metadata": {},
   "outputs": [],
   "source": [
    "#setting up my targets \n",
    "y_train = df_train['TJ_Yes'].values.astype(np.int)\n",
    "y_test = df_test['TJ_Yes'].values.astype(np.int)\n"
   ]
  },
  {
   "cell_type": "markdown",
   "metadata": {},
   "source": [
    "## Model Work \n",
    "\n",
    "With the data succesfully and properly loaded, I bring in keras and tensorflow."
   ]
  },
  {
   "cell_type": "code",
   "execution_count": 205,
   "metadata": {},
   "outputs": [],
   "source": [
    "from sklearn import metrics as mt\n",
    "from tensorflow import keras\n",
    "from tensorflow.keras.layers import Dense, Activation, Input\n",
    "from tensorflow.keras.layers import Embedding, Flatten, Concatenate\n",
    "from tensorflow.keras.models import Model"
   ]
  },
  {
   "cell_type": "code",
   "execution_count": 206,
   "metadata": {},
   "outputs": [],
   "source": [
    "# combine the features into a single large matrix\n",
    "X_train = df_train.drop([\"TJ_Yes\"],axis=1).to_numpy()\n",
    "X_test = df_test.drop([\"TJ_Yes\"],axis=1).to_numpy()\n"
   ]
  },
  {
   "cell_type": "markdown",
   "metadata": {},
   "source": [
    "Input size will always be the same.\n",
    "I start off with the most basic model possible. "
   ]
  },
  {
   "cell_type": "code",
   "execution_count": 207,
   "metadata": {},
   "outputs": [],
   "source": [
    "#id number of features \n",
    "num_features = X_train.shape[1]\n",
    "#set up input\n",
    "input_tensor = Input(shape=(num_features,))\n"
   ]
  },
  {
   "cell_type": "code",
   "execution_count": 208,
   "metadata": {},
   "outputs": [],
   "source": [
    "from keras.models import Sequential\n",
    "from keras.layers import Dropout\n",
    "from keras.layers import Dense\n",
    "import tensorflow as tf\n",
    "from sklearn import metrics as mt"
   ]
  },
  {
   "cell_type": "markdown",
   "metadata": {},
   "source": [
    "Start out extremely simple with no relu, dropout or penalization to see how it fits. "
   ]
  },
  {
   "cell_type": "code",
   "execution_count": 209,
   "metadata": {},
   "outputs": [],
   "source": [
    "model = Sequential()\n",
    "model.add(Dense(10, input_dim=num_features, activation='sigmoid'))\n",
    "model.add(Dense(5, activation='sigmoid'))\n",
    "model.add(Dense(1, activation='sigmoid'))"
   ]
  },
  {
   "cell_type": "markdown",
   "metadata": {},
   "source": [
    "Im using adam to hopefully find the minima quickly without bouncing around too much and using recall as our metric of choice. \n",
    "Binary Cross is a pretty standard use for this case. 50 epochs and small validation set to start.\n",
    "\n"
   ]
  },
  {
   "cell_type": "code",
   "execution_count": 210,
   "metadata": {},
   "outputs": [
    {
     "name": "stdout",
     "output_type": "stream",
     "text": [
      "Epoch 1/50\n",
      "157/157 [==============================] - 0s 2ms/step - loss: 0.5376 - accuracy: 0.8401 - val_loss: 1.1647 - val_accuracy: 0.0000e+00\n",
      "Epoch 2/50\n",
      "157/157 [==============================] - 0s 1ms/step - loss: 0.3559 - accuracy: 0.9512 - val_loss: 1.5097 - val_accuracy: 0.0000e+00\n",
      "Epoch 3/50\n",
      "157/157 [==============================] - 0s 1ms/step - loss: 0.2817 - accuracy: 0.9512 - val_loss: 1.8093 - val_accuracy: 0.0000e+00\n",
      "Epoch 4/50\n",
      "157/157 [==============================] - 0s 2ms/step - loss: 0.2426 - accuracy: 0.9512 - val_loss: 2.0613 - val_accuracy: 0.0000e+00\n",
      "Epoch 5/50\n",
      "157/157 [==============================] - 0s 2ms/step - loss: 0.2210 - accuracy: 0.9512 - val_loss: 2.2817 - val_accuracy: 0.0000e+00\n",
      "Epoch 6/50\n",
      "157/157 [==============================] - 0s 2ms/step - loss: 0.2087 - accuracy: 0.9512 - val_loss: 2.4593 - val_accuracy: 0.0000e+00\n",
      "Epoch 7/50\n",
      "157/157 [==============================] - 0s 1ms/step - loss: 0.2018 - accuracy: 0.9512 - val_loss: 2.5880 - val_accuracy: 0.0000e+00\n",
      "Epoch 8/50\n",
      "157/157 [==============================] - 0s 998us/step - loss: 0.1925 - accuracy: 0.9512 - val_loss: 2.4821 - val_accuracy: 0.0000e+00\n",
      "Epoch 9/50\n",
      "157/157 [==============================] - 0s 1ms/step - loss: 0.1744 - accuracy: 0.9512 - val_loss: 2.3900 - val_accuracy: 0.0000e+00\n",
      "Epoch 10/50\n",
      "157/157 [==============================] - 0s 1000us/step - loss: 0.1626 - accuracy: 0.9512 - val_loss: 2.3797 - val_accuracy: 0.0000e+00\n",
      "Epoch 11/50\n",
      "157/157 [==============================] - 0s 1ms/step - loss: 0.1540 - accuracy: 0.9512 - val_loss: 2.2849 - val_accuracy: 0.0000e+00\n",
      "Epoch 12/50\n",
      "157/157 [==============================] - 0s 1ms/step - loss: 0.1474 - accuracy: 0.9512 - val_loss: 2.1753 - val_accuracy: 0.0000e+00\n",
      "Epoch 13/50\n",
      "157/157 [==============================] - 0s 1ms/step - loss: 0.1420 - accuracy: 0.9512 - val_loss: 2.1722 - val_accuracy: 0.0000e+00\n",
      "Epoch 14/50\n",
      "157/157 [==============================] - 0s 1ms/step - loss: 0.1374 - accuracy: 0.9512 - val_loss: 2.1077 - val_accuracy: 0.0000e+00\n",
      "Epoch 15/50\n",
      "157/157 [==============================] - 0s 1ms/step - loss: 0.1332 - accuracy: 0.9512 - val_loss: 2.2367 - val_accuracy: 0.0000e+00\n",
      "Epoch 16/50\n",
      "157/157 [==============================] - 0s 1ms/step - loss: 0.1299 - accuracy: 0.9516 - val_loss: 1.8244 - val_accuracy: 0.0016\n",
      "Epoch 17/50\n",
      "157/157 [==============================] - 0s 1ms/step - loss: 0.1259 - accuracy: 0.9636 - val_loss: 2.0664 - val_accuracy: 0.0447\n",
      "Epoch 18/50\n",
      "157/157 [==============================] - 0s 1ms/step - loss: 0.1224 - accuracy: 0.9716 - val_loss: 2.0699 - val_accuracy: 0.0942\n",
      "Epoch 19/50\n",
      "157/157 [==============================] - 0s 1ms/step - loss: 0.1185 - accuracy: 0.9732 - val_loss: 2.0512 - val_accuracy: 0.1581\n",
      "Epoch 20/50\n",
      "157/157 [==============================] - 0s 1ms/step - loss: 0.1158 - accuracy: 0.9736 - val_loss: 1.9033 - val_accuracy: 0.2396\n",
      "Epoch 21/50\n",
      "157/157 [==============================] - 0s 1ms/step - loss: 0.1133 - accuracy: 0.9736 - val_loss: 1.7463 - val_accuracy: 0.3227\n",
      "Epoch 22/50\n",
      "157/157 [==============================] - 0s 1ms/step - loss: 0.1103 - accuracy: 0.9740 - val_loss: 1.6785 - val_accuracy: 0.3578\n",
      "Epoch 23/50\n",
      "157/157 [==============================] - 0s 2ms/step - loss: 0.1081 - accuracy: 0.9756 - val_loss: 1.7344 - val_accuracy: 0.3482\n",
      "Epoch 24/50\n",
      "157/157 [==============================] - 0s 1ms/step - loss: 0.1050 - accuracy: 0.9752 - val_loss: 1.7404 - val_accuracy: 0.3466\n",
      "Epoch 25/50\n",
      "157/157 [==============================] - 0s 1ms/step - loss: 0.1028 - accuracy: 0.9760 - val_loss: 1.7064 - val_accuracy: 0.3690\n",
      "Epoch 26/50\n",
      "157/157 [==============================] - 0s 2ms/step - loss: 0.1001 - accuracy: 0.9768 - val_loss: 1.6879 - val_accuracy: 0.3882\n",
      "Epoch 27/50\n",
      "157/157 [==============================] - 0s 1ms/step - loss: 0.0977 - accuracy: 0.9764 - val_loss: 1.5690 - val_accuracy: 0.4345\n",
      "Epoch 28/50\n",
      "157/157 [==============================] - 0s 2ms/step - loss: 0.0954 - accuracy: 0.9772 - val_loss: 1.5714 - val_accuracy: 0.4361\n",
      "Epoch 29/50\n",
      "157/157 [==============================] - 0s 1ms/step - loss: 0.0927 - accuracy: 0.9776 - val_loss: 1.6742 - val_accuracy: 0.4121\n",
      "Epoch 30/50\n",
      "157/157 [==============================] - 0s 2ms/step - loss: 0.0908 - accuracy: 0.9780 - val_loss: 1.6720 - val_accuracy: 0.4121\n",
      "Epoch 31/50\n",
      "157/157 [==============================] - 0s 1ms/step - loss: 0.0883 - accuracy: 0.9792 - val_loss: 1.7514 - val_accuracy: 0.3898\n",
      "Epoch 32/50\n",
      "157/157 [==============================] - 0s 1ms/step - loss: 0.0869 - accuracy: 0.9796 - val_loss: 1.6834 - val_accuracy: 0.4185\n",
      "Epoch 33/50\n",
      "157/157 [==============================] - 0s 1ms/step - loss: 0.0846 - accuracy: 0.9816 - val_loss: 1.5704 - val_accuracy: 0.4489\n",
      "Epoch 34/50\n",
      "157/157 [==============================] - 0s 1ms/step - loss: 0.0825 - accuracy: 0.9824 - val_loss: 1.6768 - val_accuracy: 0.4201\n",
      "Epoch 35/50\n",
      "157/157 [==============================] - 0s 1ms/step - loss: 0.0806 - accuracy: 0.9824 - val_loss: 1.6613 - val_accuracy: 0.4265\n",
      "Epoch 36/50\n",
      "157/157 [==============================] - 0s 1ms/step - loss: 0.0784 - accuracy: 0.9832 - val_loss: 1.6674 - val_accuracy: 0.4409\n",
      "Epoch 37/50\n",
      "157/157 [==============================] - 0s 1ms/step - loss: 0.0770 - accuracy: 0.9832 - val_loss: 1.7335 - val_accuracy: 0.4105\n",
      "Epoch 38/50\n",
      "157/157 [==============================] - 0s 1ms/step - loss: 0.0746 - accuracy: 0.9844 - val_loss: 1.6795 - val_accuracy: 0.4377\n",
      "Epoch 39/50\n",
      "157/157 [==============================] - 0s 1ms/step - loss: 0.0728 - accuracy: 0.9836 - val_loss: 1.7563 - val_accuracy: 0.4105\n",
      "Epoch 40/50\n",
      "157/157 [==============================] - 0s 1ms/step - loss: 0.0705 - accuracy: 0.9852 - val_loss: 1.8054 - val_accuracy: 0.4026\n",
      "Epoch 41/50\n",
      "157/157 [==============================] - 0s 1ms/step - loss: 0.0688 - accuracy: 0.9852 - val_loss: 1.7502 - val_accuracy: 0.4201\n",
      "Epoch 42/50\n",
      "157/157 [==============================] - 0s 1ms/step - loss: 0.0668 - accuracy: 0.9856 - val_loss: 1.7394 - val_accuracy: 0.4345\n",
      "Epoch 43/50\n",
      "157/157 [==============================] - 0s 2ms/step - loss: 0.0655 - accuracy: 0.9864 - val_loss: 1.7809 - val_accuracy: 0.4217\n",
      "Epoch 44/50\n",
      "157/157 [==============================] - 0s 2ms/step - loss: 0.0637 - accuracy: 0.9868 - val_loss: 1.7009 - val_accuracy: 0.4505\n",
      "Epoch 45/50\n",
      "157/157 [==============================] - 0s 2ms/step - loss: 0.0619 - accuracy: 0.9880 - val_loss: 1.6950 - val_accuracy: 0.4569\n",
      "Epoch 46/50\n",
      "157/157 [==============================] - 0s 1ms/step - loss: 0.0601 - accuracy: 0.9868 - val_loss: 1.7160 - val_accuracy: 0.4585\n",
      "Epoch 47/50\n",
      "157/157 [==============================] - 0s 1ms/step - loss: 0.0584 - accuracy: 0.9876 - val_loss: 1.7516 - val_accuracy: 0.4441\n",
      "Epoch 48/50\n",
      "157/157 [==============================] - 0s 1ms/step - loss: 0.0563 - accuracy: 0.9880 - val_loss: 1.6174 - val_accuracy: 0.4856\n",
      "Epoch 49/50\n",
      "157/157 [==============================] - 0s 1ms/step - loss: 0.0545 - accuracy: 0.9888 - val_loss: 1.7046 - val_accuracy: 0.4585\n",
      "Epoch 50/50\n",
      "157/157 [==============================] - 0s 1ms/step - loss: 0.0536 - accuracy: 0.9884 - val_loss: 1.8209 - val_accuracy: 0.4249\n",
      "Model: \"sequential_36\"\n",
      "_________________________________________________________________\n",
      "Layer (type)                 Output Shape              Param #   \n",
      "=================================================================\n",
      "dense_105 (Dense)            (None, 10)                3370      \n",
      "_________________________________________________________________\n",
      "dense_106 (Dense)            (None, 5)                 55        \n",
      "_________________________________________________________________\n",
      "dense_107 (Dense)            (None, 1)                 6         \n",
      "=================================================================\n",
      "Total params: 3,431\n",
      "Trainable params: 3,431\n",
      "Non-trainable params: 0\n",
      "_________________________________________________________________\n"
     ]
    }
   ],
   "source": [
    "recall = tf.keras.metrics.Recall()\n",
    "\n",
    "model.compile(optimizer='adam',\n",
    "              loss='binary_crossentropy',\n",
    "              metrics=['accuracy'])\n",
    "\n",
    "\n",
    "history = model.fit([X_train],\n",
    "                    y_train, \n",
    "                    epochs=50, \n",
    "                    batch_size=16, \n",
    "                    verbose=1, \n",
    "                    validation_split = .2)\n",
    "\n",
    "model.summary()\n",
    "\n"
   ]
  },
  {
   "cell_type": "code",
   "execution_count": 211,
   "metadata": {},
   "outputs": [
    {
     "name": "stdout",
     "output_type": "stream",
     "text": [
      "[[1042   22]\n",
      " [  28    1]]\n",
      "              precision    recall  f1-score   support\n",
      "\n",
      "           0       0.97      0.98      0.98      1064\n",
      "           1       0.04      0.03      0.04        29\n",
      "\n",
      "    accuracy                           0.95      1093\n",
      "   macro avg       0.51      0.51      0.51      1093\n",
      "weighted avg       0.95      0.95      0.95      1093\n",
      "\n"
     ]
    }
   ],
   "source": [
    "# now lets see how well the model performed\n",
    "yhat_proba = model.predict(X_test)\n",
    "yhat = np.where(yhat_proba > 0.5, 1, 0)\n",
    "print(mt.confusion_matrix(y_test,yhat))\n",
    "print(mt.classification_report(y_test,yhat))\n",
    "\n"
   ]
  },
  {
   "cell_type": "code",
   "execution_count": 212,
   "metadata": {},
   "outputs": [
    {
     "data": {
      "text/plain": [
       "Text(0.5, 0, 'epochs')"
      ]
     },
     "execution_count": 212,
     "metadata": {},
     "output_type": "execute_result"
    },
    {
     "data": {
      "image/png": "[encoded data removed]",
      "text/plain": [
       "<Figure size 432x288 with 2 Axes>"
      ]
     },
     "metadata": {
      "needs_background": "light"
     },
     "output_type": "display_data"
    }
   ],
   "source": [
    "plt.subplot(2,2,3)\n",
    "plt.plot(history.history['loss'])\n",
    "plt.ylabel('Training Loss')\n",
    "plt.xlabel('epochs')\n",
    "\n",
    "plt.subplot(2,2,4)\n",
    "plt.plot(history.history['val_loss'])\n",
    "plt.ylabel('Validation Loss')\n",
    "plt.xlabel('epochs')"
   ]
  },
  {
   "cell_type": "markdown",
   "metadata": {},
   "source": [
    "Model doesnt seem to converge fully, will add more epochs, but looks like we may be starting to overfit. "
   ]
  },
  {
   "cell_type": "code",
   "execution_count": 213,
   "metadata": {},
   "outputs": [
    {
     "name": "stdout",
     "output_type": "stream",
     "text": [
      "Model: \"sequential_36\"\n",
      "_________________________________________________________________\n",
      "Layer (type)                 Output Shape              Param #   \n",
      "=================================================================\n",
      "dense_105 (Dense)            (None, 10)                3370      \n",
      "_________________________________________________________________\n",
      "dense_106 (Dense)            (None, 5)                 55        \n",
      "_________________________________________________________________\n",
      "dense_107 (Dense)            (None, 1)                 6         \n",
      "=================================================================\n",
      "Total params: 3,431\n",
      "Trainable params: 3,431\n",
      "Non-trainable params: 0\n",
      "_________________________________________________________________\n"
     ]
    }
   ],
   "source": [
    "\n",
    "model.compile(optimizer='adam',\n",
    "              loss='binary_crossentropy',\n",
    "              metrics=['accuracy'])\n",
    "\n",
    "\n",
    "history = model.fit([X_train],\n",
    "                    y_train, \n",
    "                    epochs=25, \n",
    "                    batch_size=16, \n",
    "                    verbose=0, \n",
    "                    validation_split = .2)\n",
    "\n",
    "model.summary()\n"
   ]
  },
  {
   "cell_type": "code",
   "execution_count": 214,
   "metadata": {},
   "outputs": [
    {
     "data": {
      "text/plain": [
       "Text(0.5, 0, 'epochs')"
      ]
     },
     "execution_count": 214,
     "metadata": {},
     "output_type": "execute_result"
    },
    {
     "data": {
      "image/png": "[encoded data removed]",
      "text/plain": [
       "<Figure size 432x288 with 2 Axes>"
      ]
     },
     "metadata": {
      "needs_background": "light"
     },
     "output_type": "display_data"
    }
   ],
   "source": [
    "plt.subplot(2,2,3)\n",
    "plt.plot(history.history['loss'])\n",
    "plt.ylabel('Training Loss')\n",
    "plt.xlabel('epochs')\n",
    "\n",
    "plt.subplot(2,2,4)\n",
    "plt.plot(history.history['val_loss'])\n",
    "plt.ylabel('Validation Loss')\n",
    "plt.xlabel('epochs')"
   ]
  },
  {
   "cell_type": "markdown",
   "metadata": {},
   "source": [
    "Looks like adding the 25 actually resulted in some overfitting when comparing validation and training loss. \n",
    "We therefore will fit for 70 total epochs, but include some drop out. I also include some regularization on the hidden layer to aid in the overfitting. \n",
    "\n",
    "Since I see no issue with the model training I dont change activiation function. "
   ]
  },
  {
   "cell_type": "code",
   "execution_count": 215,
   "metadata": {},
   "outputs": [],
   "source": [
    "model = Sequential()\n",
    "model.add(Dense(10, input_dim=num_features, activation='sigmoid'))\n",
    "model.add(Dropout(0.25))\n",
    "model.add(Dense(5, activation='sigmoid',kernel_regularizer=tf.keras.regularizers.l2(1e-4)))\n",
    "model.add(Dropout(0.1))\n",
    "model.add(Dense(1, activation='sigmoid'))"
   ]
  },
  {
   "cell_type": "code",
   "execution_count": 216,
   "metadata": {
    "scrolled": true
   },
   "outputs": [
    {
     "name": "stdout",
     "output_type": "stream",
     "text": [
      "Epoch 1/70\n",
      "157/157 [==============================] - 0s 2ms/step - loss: 0.3087 - accuracy: 0.9464 - val_loss: 2.1051 - val_accuracy: 0.0000e+00\n",
      "Epoch 2/70\n",
      "157/157 [==============================] - 0s 1ms/step - loss: 0.2250 - accuracy: 0.9508 - val_loss: 2.5909 - val_accuracy: 0.0000e+00\n",
      "Epoch 3/70\n",
      "157/157 [==============================] - 0s 1ms/step - loss: 0.2008 - accuracy: 0.9512 - val_loss: 2.6669 - val_accuracy: 0.0000e+00\n",
      "Epoch 4/70\n",
      "157/157 [==============================] - 0s 1ms/step - loss: 0.1891 - accuracy: 0.9512 - val_loss: 2.6470 - val_accuracy: 0.0000e+00\n",
      "Epoch 5/70\n",
      "157/157 [==============================] - 0s 1ms/step - loss: 0.1734 - accuracy: 0.9512 - val_loss: 2.5104 - val_accuracy: 0.0000e+00\n",
      "Epoch 6/70\n",
      "157/157 [==============================] - 0s 1ms/step - loss: 0.1676 - accuracy: 0.9512 - val_loss: 2.5101 - val_accuracy: 0.0000e+00\n",
      "Epoch 7/70\n",
      "157/157 [==============================] - 0s 1ms/step - loss: 0.1613 - accuracy: 0.9512 - val_loss: 2.3670 - val_accuracy: 0.0000e+00\n",
      "Epoch 8/70\n",
      "157/157 [==============================] - 0s 1ms/step - loss: 0.1560 - accuracy: 0.9512 - val_loss: 2.3374 - val_accuracy: 0.0000e+00\n",
      "Epoch 9/70\n",
      "157/157 [==============================] - 0s 1ms/step - loss: 0.1528 - accuracy: 0.9512 - val_loss: 2.2518 - val_accuracy: 0.0000e+00\n",
      "Epoch 10/70\n",
      "157/157 [==============================] - 0s 1ms/step - loss: 0.1426 - accuracy: 0.9516 - val_loss: 2.0788 - val_accuracy: 0.0000e+00\n",
      "Epoch 11/70\n",
      "157/157 [==============================] - 0s 1ms/step - loss: 0.1419 - accuracy: 0.9564 - val_loss: 2.2219 - val_accuracy: 0.0000e+00\n",
      "Epoch 12/70\n",
      "157/157 [==============================] - 0s 1ms/step - loss: 0.1403 - accuracy: 0.9584 - val_loss: 2.1352 - val_accuracy: 0.0000e+00\n",
      "Epoch 13/70\n",
      "157/157 [==============================] - 0s 1ms/step - loss: 0.1373 - accuracy: 0.9604 - val_loss: 2.0941 - val_accuracy: 0.0000e+00\n",
      "Epoch 14/70\n",
      "157/157 [==============================] - 0s 1ms/step - loss: 0.1378 - accuracy: 0.9592 - val_loss: 1.9955 - val_accuracy: 0.0048\n",
      "Epoch 15/70\n",
      "157/157 [==============================] - 0s 1ms/step - loss: 0.1307 - accuracy: 0.9612 - val_loss: 1.9488 - val_accuracy: 0.0224\n",
      "Epoch 16/70\n",
      "157/157 [==============================] - 0s 1ms/step - loss: 0.1348 - accuracy: 0.9632 - val_loss: 1.8590 - val_accuracy: 0.0719\n",
      "Epoch 17/70\n",
      "157/157 [==============================] - 0s 1ms/step - loss: 0.1255 - accuracy: 0.9668 - val_loss: 1.9578 - val_accuracy: 0.1006\n",
      "Epoch 18/70\n",
      "157/157 [==============================] - 0s 1ms/step - loss: 0.1317 - accuracy: 0.9656 - val_loss: 1.8788 - val_accuracy: 0.1454\n",
      "Epoch 19/70\n",
      "157/157 [==============================] - 0s 1ms/step - loss: 0.1305 - accuracy: 0.9668 - val_loss: 1.8386 - val_accuracy: 0.1725\n",
      "Epoch 20/70\n",
      "157/157 [==============================] - 0s 1ms/step - loss: 0.1231 - accuracy: 0.9688 - val_loss: 1.7317 - val_accuracy: 0.2524\n",
      "Epoch 21/70\n",
      "157/157 [==============================] - 0s 1ms/step - loss: 0.1227 - accuracy: 0.9696 - val_loss: 1.8374 - val_accuracy: 0.2300\n",
      "Epoch 22/70\n",
      "157/157 [==============================] - 0s 1ms/step - loss: 0.1175 - accuracy: 0.9688 - val_loss: 1.8807 - val_accuracy: 0.2300\n",
      "Epoch 23/70\n",
      "157/157 [==============================] - 0s 1ms/step - loss: 0.1180 - accuracy: 0.9708 - val_loss: 1.8948 - val_accuracy: 0.2428\n",
      "Epoch 24/70\n",
      "157/157 [==============================] - 0s 1ms/step - loss: 0.1176 - accuracy: 0.9680 - val_loss: 1.9699 - val_accuracy: 0.2380\n",
      "Epoch 25/70\n",
      "157/157 [==============================] - 0s 1ms/step - loss: 0.1095 - accuracy: 0.9712 - val_loss: 1.8254 - val_accuracy: 0.3003\n",
      "Epoch 26/70\n",
      "157/157 [==============================] - 0s 1ms/step - loss: 0.1135 - accuracy: 0.9680 - val_loss: 1.7853 - val_accuracy: 0.3163\n",
      "Epoch 27/70\n",
      "157/157 [==============================] - 0s 1ms/step - loss: 0.1094 - accuracy: 0.9716 - val_loss: 1.7864 - val_accuracy: 0.3307\n",
      "Epoch 28/70\n",
      "157/157 [==============================] - 0s 1ms/step - loss: 0.1105 - accuracy: 0.9744 - val_loss: 1.8322 - val_accuracy: 0.3259\n",
      "Epoch 29/70\n",
      "157/157 [==============================] - 0s 1ms/step - loss: 0.1144 - accuracy: 0.9684 - val_loss: 1.7290 - val_accuracy: 0.3674\n",
      "Epoch 30/70\n",
      "157/157 [==============================] - 0s 1ms/step - loss: 0.1126 - accuracy: 0.9744 - val_loss: 1.7534 - val_accuracy: 0.3610\n",
      "Epoch 31/70\n",
      "157/157 [==============================] - 0s 1ms/step - loss: 0.1113 - accuracy: 0.9724 - val_loss: 1.8818 - val_accuracy: 0.3243\n",
      "Epoch 32/70\n",
      "157/157 [==============================] - 0s 1ms/step - loss: 0.1069 - accuracy: 0.9732 - val_loss: 1.7270 - val_accuracy: 0.3770\n",
      "Epoch 33/70\n",
      "157/157 [==============================] - 0s 1ms/step - loss: 0.1043 - accuracy: 0.9732 - val_loss: 1.7665 - val_accuracy: 0.3674\n",
      "Epoch 34/70\n",
      "157/157 [==============================] - 0s 1ms/step - loss: 0.1075 - accuracy: 0.9744 - val_loss: 1.8006 - val_accuracy: 0.3626\n",
      "Epoch 35/70\n",
      "157/157 [==============================] - 0s 1ms/step - loss: 0.1087 - accuracy: 0.9724 - val_loss: 1.7185 - val_accuracy: 0.3962\n",
      "Epoch 36/70\n",
      "157/157 [==============================] - 0s 1ms/step - loss: 0.1046 - accuracy: 0.9752 - val_loss: 1.7690 - val_accuracy: 0.3914\n",
      "Epoch 37/70\n",
      "157/157 [==============================] - 0s 1ms/step - loss: 0.1046 - accuracy: 0.9744 - val_loss: 1.7832 - val_accuracy: 0.3866\n",
      "Epoch 38/70\n",
      "157/157 [==============================] - 0s 1ms/step - loss: 0.1028 - accuracy: 0.9772 - val_loss: 1.7297 - val_accuracy: 0.4089\n",
      "Epoch 39/70\n",
      "157/157 [==============================] - 0s 1ms/step - loss: 0.1031 - accuracy: 0.9760 - val_loss: 1.6698 - val_accuracy: 0.4361\n",
      "Epoch 40/70\n",
      "157/157 [==============================] - 0s 1ms/step - loss: 0.1048 - accuracy: 0.9760 - val_loss: 1.6268 - val_accuracy: 0.4473\n",
      "Epoch 41/70\n",
      "157/157 [==============================] - 0s 1ms/step - loss: 0.1013 - accuracy: 0.9744 - val_loss: 1.7136 - val_accuracy: 0.4217\n",
      "Epoch 42/70\n",
      "157/157 [==============================] - 0s 1ms/step - loss: 0.1006 - accuracy: 0.9788 - val_loss: 1.5470 - val_accuracy: 0.4808\n",
      "Epoch 43/70\n",
      "157/157 [==============================] - 0s 1ms/step - loss: 0.1002 - accuracy: 0.9752 - val_loss: 1.8153 - val_accuracy: 0.3978\n",
      "Epoch 44/70\n",
      "157/157 [==============================] - 0s 1ms/step - loss: 0.1004 - accuracy: 0.9756 - val_loss: 1.7643 - val_accuracy: 0.4121\n",
      "Epoch 45/70\n",
      "157/157 [==============================] - 0s 1ms/step - loss: 0.0954 - accuracy: 0.9780 - val_loss: 1.8138 - val_accuracy: 0.4058\n",
      "Epoch 46/70\n",
      "157/157 [==============================] - 0s 1ms/step - loss: 0.0969 - accuracy: 0.9760 - val_loss: 1.5965 - val_accuracy: 0.4744\n",
      "Epoch 47/70\n",
      "157/157 [==============================] - 0s 1ms/step - loss: 0.0998 - accuracy: 0.9760 - val_loss: 1.6546 - val_accuracy: 0.4633\n",
      "Epoch 48/70\n",
      "157/157 [==============================] - 0s 1ms/step - loss: 0.0977 - accuracy: 0.9764 - val_loss: 1.7214 - val_accuracy: 0.4329\n",
      "Epoch 49/70\n",
      "157/157 [==============================] - 0s 1ms/step - loss: 0.0930 - accuracy: 0.9768 - val_loss: 1.6842 - val_accuracy: 0.4489\n",
      "Epoch 50/70\n",
      "157/157 [==============================] - 0s 1ms/step - loss: 0.0919 - accuracy: 0.9736 - val_loss: 1.7338 - val_accuracy: 0.4329\n",
      "Epoch 51/70\n",
      "157/157 [==============================] - 0s 1ms/step - loss: 0.0968 - accuracy: 0.9756 - val_loss: 1.7959 - val_accuracy: 0.4073\n",
      "Epoch 52/70\n",
      "157/157 [==============================] - 0s 1ms/step - loss: 0.0924 - accuracy: 0.9792 - val_loss: 1.7483 - val_accuracy: 0.4217\n",
      "Epoch 53/70\n",
      "157/157 [==============================] - 0s 1ms/step - loss: 0.0936 - accuracy: 0.9788 - val_loss: 1.6698 - val_accuracy: 0.4505\n",
      "Epoch 54/70\n",
      "157/157 [==============================] - 0s 1ms/step - loss: 0.0942 - accuracy: 0.9776 - val_loss: 1.7485 - val_accuracy: 0.4297\n",
      "Epoch 55/70\n",
      "157/157 [==============================] - 0s 1ms/step - loss: 0.0939 - accuracy: 0.9764 - val_loss: 1.7138 - val_accuracy: 0.4409\n",
      "Epoch 56/70\n",
      "157/157 [==============================] - 0s 1ms/step - loss: 0.0985 - accuracy: 0.9744 - val_loss: 1.7578 - val_accuracy: 0.4217\n",
      "Epoch 57/70\n",
      "157/157 [==============================] - 0s 1ms/step - loss: 0.0914 - accuracy: 0.9776 - val_loss: 1.6458 - val_accuracy: 0.4728\n",
      "Epoch 58/70\n",
      "157/157 [==============================] - 0s 1ms/step - loss: 0.0866 - accuracy: 0.9792 - val_loss: 1.7283 - val_accuracy: 0.4441\n",
      "Epoch 59/70\n",
      "157/157 [==============================] - 0s 1ms/step - loss: 0.0905 - accuracy: 0.9768 - val_loss: 1.7801 - val_accuracy: 0.4249\n",
      "Epoch 60/70\n",
      "157/157 [==============================] - 0s 1ms/step - loss: 0.0918 - accuracy: 0.9748 - val_loss: 1.5805 - val_accuracy: 0.5032\n",
      "Epoch 61/70\n",
      "157/157 [==============================] - 0s 1ms/step - loss: 0.0890 - accuracy: 0.9780 - val_loss: 1.6761 - val_accuracy: 0.4649\n",
      "Epoch 62/70\n",
      "157/157 [==============================] - 0s 1ms/step - loss: 0.0889 - accuracy: 0.9788 - val_loss: 1.7070 - val_accuracy: 0.4617\n",
      "Epoch 63/70\n",
      "157/157 [==============================] - 0s 1ms/step - loss: 0.0868 - accuracy: 0.9792 - val_loss: 1.6066 - val_accuracy: 0.5032\n",
      "Epoch 64/70\n",
      "157/157 [==============================] - 0s 1ms/step - loss: 0.0833 - accuracy: 0.9788 - val_loss: 1.7748 - val_accuracy: 0.4457\n",
      "Epoch 65/70\n",
      "157/157 [==============================] - 0s 1ms/step - loss: 0.0885 - accuracy: 0.9776 - val_loss: 1.5944 - val_accuracy: 0.4968\n",
      "Epoch 66/70\n",
      "157/157 [==============================] - 0s 1ms/step - loss: 0.0942 - accuracy: 0.9760 - val_loss: 1.5903 - val_accuracy: 0.5080\n",
      "Epoch 67/70\n",
      "157/157 [==============================] - 0s 1ms/step - loss: 0.0845 - accuracy: 0.9812 - val_loss: 1.7004 - val_accuracy: 0.4792\n",
      "Epoch 68/70\n",
      "157/157 [==============================] - 0s 1ms/step - loss: 0.0840 - accuracy: 0.9804 - val_loss: 1.6196 - val_accuracy: 0.5064\n",
      "Epoch 69/70\n",
      "157/157 [==============================] - 0s 1ms/step - loss: 0.0805 - accuracy: 0.9820 - val_loss: 1.6595 - val_accuracy: 0.4936\n",
      "Epoch 70/70\n",
      "157/157 [==============================] - 0s 1ms/step - loss: 0.0819 - accuracy: 0.9792 - val_loss: 1.6255 - val_accuracy: 0.5112\n",
      "Model: \"sequential_37\"\n",
      "_________________________________________________________________\n",
      "Layer (type)                 Output Shape              Param #   \n",
      "=================================================================\n",
      "dense_108 (Dense)            (None, 10)                3370      \n",
      "_________________________________________________________________\n",
      "dropout_63 (Dropout)         (None, 10)                0         \n",
      "_________________________________________________________________\n",
      "dense_109 (Dense)            (None, 5)                 55        \n",
      "_________________________________________________________________\n",
      "dropout_64 (Dropout)         (None, 5)                 0         \n",
      "_________________________________________________________________\n",
      "dense_110 (Dense)            (None, 1)                 6         \n",
      "=================================================================\n",
      "Total params: 3,431\n",
      "Trainable params: 3,431\n",
      "Non-trainable params: 0\n",
      "_________________________________________________________________\n"
     ]
    }
   ],
   "source": [
    "\n",
    "model.compile(optimizer='adam',\n",
    "              loss='binary_crossentropy',\n",
    "              metrics=['accuracy'])\n",
    "\n",
    "\n",
    "history = model.fit([X_train],\n",
    "                    y_train, \n",
    "                    epochs=70, \n",
    "                    batch_size=16, \n",
    "                    verbose=1, \n",
    "                    validation_split = .2)\n",
    "\n",
    "model.summary()\n",
    "\n"
   ]
  },
  {
   "cell_type": "code",
   "execution_count": 217,
   "metadata": {},
   "outputs": [
    {
     "data": {
      "text/plain": [
       "Text(0.5, 0, 'epochs')"
      ]
     },
     "execution_count": 217,
     "metadata": {},
     "output_type": "execute_result"
    },
    {
     "data": {
      "image/png": "[encoded data removed]",
      "text/plain": [
       "<Figure size 432x288 with 2 Axes>"
      ]
     },
     "metadata": {
      "needs_background": "light"
     },
     "output_type": "display_data"
    }
   ],
   "source": [
    "\n",
    "plt.subplot(2,2,3)\n",
    "plt.plot(history.history['loss'])\n",
    "plt.ylabel('Training Loss')\n",
    "plt.xlabel('epochs')\n",
    "\n",
    "plt.subplot(2,2,4)\n",
    "plt.plot(history.history['val_loss'])\n",
    "plt.ylabel('Validation Loss')\n",
    "plt.xlabel('epochs')"
   ]
  },
  {
   "cell_type": "code",
   "execution_count": 218,
   "metadata": {},
   "outputs": [
    {
     "name": "stdout",
     "output_type": "stream",
     "text": [
      "[[1041   23]\n",
      " [  28    1]]\n",
      "              precision    recall  f1-score   support\n",
      "\n",
      "           0       0.97      0.98      0.98      1064\n",
      "           1       0.04      0.03      0.04        29\n",
      "\n",
      "    accuracy                           0.95      1093\n",
      "   macro avg       0.51      0.51      0.51      1093\n",
      "weighted avg       0.95      0.95      0.95      1093\n",
      "\n"
     ]
    }
   ],
   "source": [
    "# now lets see how well the model performed\n",
    "yhat_proba = model.predict(X_test)\n",
    "yhat = np.where(yhat_proba > 0.5, 1, 0)\n",
    "print(mt.confusion_matrix(y_test,yhat))\n",
    "print(mt.classification_report(y_test,yhat))\n"
   ]
  },
  {
   "cell_type": "markdown",
   "metadata": {},
   "source": [
    "No improvement in the results. Since it did not seem to be training very well after a few epochs, I will use relu instead of sigmoid to address gradient issue potentially. "
   ]
  },
  {
   "cell_type": "code",
   "execution_count": 219,
   "metadata": {},
   "outputs": [],
   "source": [
    "model = Sequential()\n",
    "model.add(Dense(10, input_dim=num_features, activation='relu'))\n",
    "model.add(Dropout(0.25))\n",
    "model.add(Dense(5, activation='relu',kernel_regularizer=tf.keras.regularizers.l2(1e-4)))\n",
    "model.add(Dropout(0.1))\n",
    "model.add(Dense(1, activation='relu'))\n",
    "\n"
   ]
  },
  {
   "cell_type": "code",
   "execution_count": 220,
   "metadata": {},
   "outputs": [
    {
     "name": "stdout",
     "output_type": "stream",
     "text": [
      "Epoch 1/70\n",
      "157/157 [==============================] - 0s 2ms/step - loss: 0.7605 - accuracy: 0.9504 - val_loss: 15.4255 - val_accuracy: 0.0000e+00\n",
      "Epoch 2/70\n",
      "157/157 [==============================] - 0s 1ms/step - loss: 0.7527 - accuracy: 0.9512 - val_loss: 15.4254 - val_accuracy: 0.0000e+00\n",
      "Epoch 3/70\n",
      "157/157 [==============================] - 0s 1ms/step - loss: 0.7531 - accuracy: 0.9508 - val_loss: 15.4253 - val_accuracy: 0.0000e+00\n",
      "Epoch 4/70\n",
      "157/157 [==============================] - 0s 1ms/step - loss: 0.7525 - accuracy: 0.9512 - val_loss: 15.4253 - val_accuracy: 0.0000e+00\n",
      "Epoch 5/70\n",
      "157/157 [==============================] - 0s 1ms/step - loss: 0.7526 - accuracy: 0.9512 - val_loss: 15.4252 - val_accuracy: 0.0000e+00\n",
      "Epoch 6/70\n",
      "157/157 [==============================] - 0s 1ms/step - loss: 0.7524 - accuracy: 0.9512 - val_loss: 15.4252 - val_accuracy: 0.0000e+00\n",
      "Epoch 7/70\n",
      "157/157 [==============================] - 0s 1ms/step - loss: 0.7524 - accuracy: 0.9512 - val_loss: 15.4252 - val_accuracy: 0.0000e+00\n",
      "Epoch 8/70\n",
      "157/157 [==============================] - 0s 1ms/step - loss: 0.7525 - accuracy: 0.9512 - val_loss: 15.4252 - val_accuracy: 0.0000e+00\n",
      "Epoch 9/70\n",
      "157/157 [==============================] - 0s 1ms/step - loss: 0.7523 - accuracy: 0.9512 - val_loss: 15.4252 - val_accuracy: 0.0000e+00\n",
      "Epoch 10/70\n",
      "157/157 [==============================] - 0s 1ms/step - loss: 0.7523 - accuracy: 0.9512 - val_loss: 15.4251 - val_accuracy: 0.0000e+00\n",
      "Epoch 11/70\n",
      "157/157 [==============================] - 0s 1ms/step - loss: 0.7523 - accuracy: 0.9512 - val_loss: 15.4251 - val_accuracy: 0.0000e+00\n",
      "Epoch 12/70\n",
      "157/157 [==============================] - 0s 1ms/step - loss: 0.7523 - accuracy: 0.9512 - val_loss: 15.4251 - val_accuracy: 0.0000e+00\n",
      "Epoch 13/70\n",
      "157/157 [==============================] - 0s 1ms/step - loss: 0.7523 - accuracy: 0.9512 - val_loss: 15.4251 - val_accuracy: 0.0000e+00\n",
      "Epoch 14/70\n",
      "157/157 [==============================] - 0s 1ms/step - loss: 0.7523 - accuracy: 0.9512 - val_loss: 15.4251 - val_accuracy: 0.0000e+00\n",
      "Epoch 15/70\n",
      "157/157 [==============================] - 0s 1ms/step - loss: 0.7523 - accuracy: 0.9512 - val_loss: 15.4251 - val_accuracy: 0.0000e+00\n",
      "Epoch 16/70\n",
      "157/157 [==============================] - 0s 1ms/step - loss: 0.7523 - accuracy: 0.9512 - val_loss: 15.4251 - val_accuracy: 0.0000e+00\n",
      "Epoch 17/70\n",
      "157/157 [==============================] - 0s 1ms/step - loss: 0.7523 - accuracy: 0.9512 - val_loss: 15.4251 - val_accuracy: 0.0000e+00\n",
      "Epoch 18/70\n",
      "157/157 [==============================] - 0s 1ms/step - loss: 0.7523 - accuracy: 0.9512 - val_loss: 15.4251 - val_accuracy: 0.0000e+00\n",
      "Epoch 19/70\n",
      "157/157 [==============================] - 0s 1ms/step - loss: 0.7522 - accuracy: 0.9512 - val_loss: 15.4251 - val_accuracy: 0.0000e+00\n",
      "Epoch 20/70\n",
      "157/157 [==============================] - 0s 1ms/step - loss: 0.7522 - accuracy: 0.9512 - val_loss: 15.4250 - val_accuracy: 0.0000e+00\n",
      "Epoch 21/70\n",
      "157/157 [==============================] - 0s 1ms/step - loss: 0.7522 - accuracy: 0.9512 - val_loss: 15.4250 - val_accuracy: 0.0000e+00\n",
      "Epoch 22/70\n",
      "157/157 [==============================] - 0s 1ms/step - loss: 0.7522 - accuracy: 0.9512 - val_loss: 15.4250 - val_accuracy: 0.0000e+00\n",
      "Epoch 23/70\n",
      "157/157 [==============================] - 0s 1ms/step - loss: 0.7522 - accuracy: 0.9512 - val_loss: 15.4250 - val_accuracy: 0.0000e+00\n",
      "Epoch 24/70\n",
      "157/157 [==============================] - 0s 1ms/step - loss: 0.7522 - accuracy: 0.9512 - val_loss: 15.4250 - val_accuracy: 0.0000e+00\n",
      "Epoch 25/70\n",
      "157/157 [==============================] - 0s 1ms/step - loss: 0.7522 - accuracy: 0.9512 - val_loss: 15.4250 - val_accuracy: 0.0000e+00\n",
      "Epoch 26/70\n",
      "157/157 [==============================] - 0s 1ms/step - loss: 0.7522 - accuracy: 0.9512 - val_loss: 15.4250 - val_accuracy: 0.0000e+00\n",
      "Epoch 27/70\n",
      "157/157 [==============================] - 0s 1ms/step - loss: 0.7522 - accuracy: 0.9512 - val_loss: 15.4250 - val_accuracy: 0.0000e+00\n",
      "Epoch 28/70\n",
      "157/157 [==============================] - 0s 1ms/step - loss: 0.7522 - accuracy: 0.9512 - val_loss: 15.4250 - val_accuracy: 0.0000e+00\n",
      "Epoch 29/70\n",
      "157/157 [==============================] - 0s 1ms/step - loss: 0.7522 - accuracy: 0.9512 - val_loss: 15.4250 - val_accuracy: 0.0000e+00\n",
      "Epoch 30/70\n",
      "157/157 [==============================] - 0s 1ms/step - loss: 0.7522 - accuracy: 0.9512 - val_loss: 15.4250 - val_accuracy: 0.0000e+00\n",
      "Epoch 31/70\n",
      "157/157 [==============================] - 0s 1ms/step - loss: 0.7522 - accuracy: 0.9512 - val_loss: 15.4250 - val_accuracy: 0.0000e+00\n",
      "Epoch 32/70\n",
      "157/157 [==============================] - 0s 1ms/step - loss: 0.7522 - accuracy: 0.9512 - val_loss: 15.4250 - val_accuracy: 0.0000e+00\n",
      "Epoch 33/70\n",
      "157/157 [==============================] - 0s 1ms/step - loss: 0.7522 - accuracy: 0.9512 - val_loss: 15.4250 - val_accuracy: 0.0000e+00\n",
      "Epoch 34/70\n",
      "157/157 [==============================] - 0s 1ms/step - loss: 0.7522 - accuracy: 0.9512 - val_loss: 15.4250 - val_accuracy: 0.0000e+00\n",
      "Epoch 35/70\n",
      "157/157 [==============================] - 0s 1ms/step - loss: 0.7522 - accuracy: 0.9512 - val_loss: 15.4250 - val_accuracy: 0.0000e+00\n",
      "Epoch 36/70\n",
      "157/157 [==============================] - 0s 1ms/step - loss: 0.7522 - accuracy: 0.9512 - val_loss: 15.4250 - val_accuracy: 0.0000e+00\n",
      "Epoch 37/70\n",
      "157/157 [==============================] - 0s 1ms/step - loss: 0.7522 - accuracy: 0.9512 - val_loss: 15.4250 - val_accuracy: 0.0000e+00\n",
      "Epoch 38/70\n",
      "157/157 [==============================] - 0s 1ms/step - loss: 0.7522 - accuracy: 0.9512 - val_loss: 15.4250 - val_accuracy: 0.0000e+00\n",
      "Epoch 39/70\n",
      "157/157 [==============================] - 0s 1ms/step - loss: 0.7522 - accuracy: 0.9512 - val_loss: 15.4250 - val_accuracy: 0.0000e+00\n",
      "Epoch 40/70\n",
      "157/157 [==============================] - 0s 1ms/step - loss: 0.7522 - accuracy: 0.9512 - val_loss: 15.4250 - val_accuracy: 0.0000e+00\n",
      "Epoch 41/70\n",
      "157/157 [==============================] - 0s 1ms/step - loss: 0.7523 - accuracy: 0.9512 - val_loss: 15.4250 - val_accuracy: 0.0000e+00\n",
      "Epoch 42/70\n",
      "157/157 [==============================] - 0s 1ms/step - loss: 0.7522 - accuracy: 0.9512 - val_loss: 15.4250 - val_accuracy: 0.0000e+00\n",
      "Epoch 43/70\n",
      "157/157 [==============================] - 0s 1ms/step - loss: 0.7522 - accuracy: 0.9512 - val_loss: 15.4250 - val_accuracy: 0.0000e+00\n",
      "Epoch 44/70\n",
      "157/157 [==============================] - 0s 1ms/step - loss: 0.7522 - accuracy: 0.9512 - val_loss: 15.4250 - val_accuracy: 0.0000e+00\n",
      "Epoch 45/70\n",
      "157/157 [==============================] - 0s 1ms/step - loss: 0.7522 - accuracy: 0.9512 - val_loss: 15.4250 - val_accuracy: 0.0000e+00\n",
      "Epoch 46/70\n",
      "157/157 [==============================] - 0s 1ms/step - loss: 0.7522 - accuracy: 0.9512 - val_loss: 15.4250 - val_accuracy: 0.0000e+00\n",
      "Epoch 47/70\n",
      "157/157 [==============================] - 0s 1ms/step - loss: 0.7522 - accuracy: 0.9512 - val_loss: 15.4250 - val_accuracy: 0.0000e+00\n",
      "Epoch 48/70\n",
      "157/157 [==============================] - 0s 1ms/step - loss: 0.7522 - accuracy: 0.9512 - val_loss: 15.4250 - val_accuracy: 0.0000e+00\n",
      "Epoch 49/70\n",
      "157/157 [==============================] - 0s 1ms/step - loss: 0.7522 - accuracy: 0.9512 - val_loss: 15.4250 - val_accuracy: 0.0000e+00\n",
      "Epoch 50/70\n",
      "157/157 [==============================] - 0s 1ms/step - loss: 0.7521 - accuracy: 0.9512 - val_loss: 15.4250 - val_accuracy: 0.0000e+00\n",
      "Epoch 51/70\n",
      "157/157 [==============================] - 0s 1ms/step - loss: 0.7521 - accuracy: 0.9512 - val_loss: 15.4250 - val_accuracy: 0.0000e+00\n",
      "Epoch 52/70\n",
      "157/157 [==============================] - 0s 1ms/step - loss: 0.7521 - accuracy: 0.9512 - val_loss: 15.4250 - val_accuracy: 0.0000e+00\n",
      "Epoch 53/70\n",
      "157/157 [==============================] - 0s 1ms/step - loss: 0.7521 - accuracy: 0.9512 - val_loss: 15.4250 - val_accuracy: 0.0000e+00\n",
      "Epoch 54/70\n",
      "157/157 [==============================] - 0s 1ms/step - loss: 0.7521 - accuracy: 0.9512 - val_loss: 15.4250 - val_accuracy: 0.0000e+00\n",
      "Epoch 55/70\n",
      "157/157 [==============================] - 0s 1ms/step - loss: 0.7521 - accuracy: 0.9512 - val_loss: 15.4250 - val_accuracy: 0.0000e+00\n",
      "Epoch 56/70\n",
      "157/157 [==============================] - 0s 1ms/step - loss: 0.7521 - accuracy: 0.9512 - val_loss: 15.4250 - val_accuracy: 0.0000e+00\n",
      "Epoch 57/70\n",
      "157/157 [==============================] - 0s 1ms/step - loss: 0.7521 - accuracy: 0.9512 - val_loss: 15.4250 - val_accuracy: 0.0000e+00\n",
      "Epoch 58/70\n",
      "157/157 [==============================] - 0s 1ms/step - loss: 0.7521 - accuracy: 0.9512 - val_loss: 15.4250 - val_accuracy: 0.0000e+00\n",
      "Epoch 59/70\n",
      "157/157 [==============================] - 0s 1ms/step - loss: 0.7521 - accuracy: 0.9512 - val_loss: 15.4250 - val_accuracy: 0.0000e+00\n",
      "Epoch 60/70\n",
      "157/157 [==============================] - 0s 1ms/step - loss: 0.7521 - accuracy: 0.9512 - val_loss: 15.4250 - val_accuracy: 0.0000e+00\n",
      "Epoch 61/70\n",
      "157/157 [==============================] - 0s 1ms/step - loss: 0.7521 - accuracy: 0.9512 - val_loss: 15.4250 - val_accuracy: 0.0000e+00\n",
      "Epoch 62/70\n",
      "157/157 [==============================] - 0s 1ms/step - loss: 0.7521 - accuracy: 0.9512 - val_loss: 15.4250 - val_accuracy: 0.0000e+00\n",
      "Epoch 63/70\n",
      "157/157 [==============================] - 0s 1ms/step - loss: 0.7521 - accuracy: 0.9512 - val_loss: 15.4250 - val_accuracy: 0.0000e+00\n",
      "Epoch 64/70\n",
      "157/157 [==============================] - 0s 1ms/step - loss: 0.7521 - accuracy: 0.9512 - val_loss: 15.4250 - val_accuracy: 0.0000e+00\n",
      "Epoch 65/70\n",
      "157/157 [==============================] - 0s 1ms/step - loss: 0.7521 - accuracy: 0.9512 - val_loss: 15.4250 - val_accuracy: 0.0000e+00\n",
      "Epoch 66/70\n",
      "157/157 [==============================] - 0s 1ms/step - loss: 0.7521 - accuracy: 0.9512 - val_loss: 15.4250 - val_accuracy: 0.0000e+00\n",
      "Epoch 67/70\n",
      "157/157 [==============================] - 0s 1ms/step - loss: 0.7521 - accuracy: 0.9512 - val_loss: 15.4250 - val_accuracy: 0.0000e+00\n",
      "Epoch 68/70\n",
      "157/157 [==============================] - 0s 1ms/step - loss: 0.7521 - accuracy: 0.9512 - val_loss: 15.4250 - val_accuracy: 0.0000e+00\n",
      "Epoch 69/70\n",
      "157/157 [==============================] - 0s 1ms/step - loss: 0.7521 - accuracy: 0.9512 - val_loss: 15.4250 - val_accuracy: 0.0000e+00\n",
      "Epoch 70/70\n",
      "157/157 [==============================] - 0s 1ms/step - loss: 0.7521 - accuracy: 0.9512 - val_loss: 15.4250 - val_accuracy: 0.0000e+00\n",
      "Model: \"sequential_38\"\n",
      "_________________________________________________________________\n",
      "Layer (type)                 Output Shape              Param #   \n",
      "=================================================================\n",
      "dense_111 (Dense)            (None, 10)                3370      \n",
      "_________________________________________________________________\n",
      "dropout_65 (Dropout)         (None, 10)                0         \n",
      "_________________________________________________________________\n",
      "dense_112 (Dense)            (None, 5)                 55        \n",
      "_________________________________________________________________\n",
      "dropout_66 (Dropout)         (None, 5)                 0         \n",
      "_________________________________________________________________\n",
      "dense_113 (Dense)            (None, 1)                 6         \n",
      "=================================================================\n",
      "Total params: 3,431\n",
      "Trainable params: 3,431\n",
      "Non-trainable params: 0\n",
      "_________________________________________________________________\n"
     ]
    }
   ],
   "source": [
    "model.compile(optimizer='adam',\n",
    "              loss='binary_crossentropy',\n",
    "              metrics=['accuracy'])\n",
    "\n",
    "\n",
    "history = model.fit([X_train],\n",
    "                    y_train, \n",
    "                    epochs=70, \n",
    "                    batch_size=16, \n",
    "                    verbose=1, \n",
    "                    validation_split = .2)\n",
    "\n",
    "model.summary()"
   ]
  },
  {
   "cell_type": "code",
   "execution_count": 221,
   "metadata": {},
   "outputs": [
    {
     "data": {
      "text/plain": [
       "Text(0.5, 0, 'epochs')"
      ]
     },
     "execution_count": 221,
     "metadata": {},
     "output_type": "execute_result"
    },
    {
     "data": {
      "image/png": "[encoded data removed]",
      "text/plain": [
       "<Figure size 432x288 with 2 Axes>"
      ]
     },
     "metadata": {
      "needs_background": "light"
     },
     "output_type": "display_data"
    }
   ],
   "source": [
    "%matplotlib inline\n",
    "\n",
    "# plt.figure(figsize=(10,4))\n",
    "# plt.subplot(2,2,1)\n",
    "# plt.plot(history.history['recall'])\n",
    "\n",
    "# plt.ylabel('Accuracy %')\n",
    "# plt.title('Training')\n",
    "# plt.subplot(2,2,2)\n",
    "# plt.plot(history.history['val_accuracy'])\n",
    "# plt.title('Validation')\n",
    "\n",
    "plt.subplot(2,2,3)\n",
    "plt.plot(history.history['loss'])\n",
    "plt.ylabel('Training Loss')\n",
    "plt.xlabel('epochs')\n",
    "\n",
    "plt.subplot(2,2,4)\n",
    "plt.plot(history.history['val_loss'])\n",
    "plt.ylabel('Validation Loss')\n",
    "plt.xlabel('epochs')"
   ]
  },
  {
   "cell_type": "markdown",
   "metadata": {},
   "source": [
    "Looks to be overfitting again, but now at around 40 epochs. The relu has helped to train much faster. "
   ]
  },
  {
   "cell_type": "code",
   "execution_count": 222,
   "metadata": {},
   "outputs": [
    {
     "name": "stdout",
     "output_type": "stream",
     "text": [
      "Epoch 1/40\n",
      "157/157 [==============================] - 0s 2ms/step - loss: 0.6971 - accuracy: 0.9452 - val_loss: 14.1004 - val_accuracy: 0.0000e+00\n",
      "Epoch 2/40\n",
      "157/157 [==============================] - 0s 1ms/step - loss: 0.6089 - accuracy: 0.9552 - val_loss: 13.1706 - val_accuracy: 0.0016\n",
      "Epoch 3/40\n",
      "157/157 [==============================] - 0s 1ms/step - loss: 0.5847 - accuracy: 0.9588 - val_loss: 11.8667 - val_accuracy: 0.0304\n",
      "Epoch 4/40\n",
      "157/157 [==============================] - 0s 1ms/step - loss: 0.5404 - accuracy: 0.9616 - val_loss: 13.0796 - val_accuracy: 0.0048\n",
      "Epoch 5/40\n",
      "157/157 [==============================] - 0s 1ms/step - loss: 0.5528 - accuracy: 0.9636 - val_loss: 13.2361 - val_accuracy: 0.0064\n",
      "Epoch 6/40\n",
      "157/157 [==============================] - 0s 1ms/step - loss: 0.5506 - accuracy: 0.9628 - val_loss: 13.2077 - val_accuracy: 0.0096\n",
      "Epoch 7/40\n",
      "157/157 [==============================] - 0s 1ms/step - loss: 0.5108 - accuracy: 0.9656 - val_loss: 12.2625 - val_accuracy: 0.0256\n",
      "Epoch 8/40\n",
      "157/157 [==============================] - 0s 1ms/step - loss: 0.5652 - accuracy: 0.9620 - val_loss: 13.6683 - val_accuracy: 0.0080\n",
      "Epoch 9/40\n",
      "157/157 [==============================] - 0s 1ms/step - loss: 0.5318 - accuracy: 0.9656 - val_loss: 12.6389 - val_accuracy: 0.0240\n",
      "Epoch 10/40\n",
      "157/157 [==============================] - 0s 1ms/step - loss: 0.5139 - accuracy: 0.9660 - val_loss: 13.2466 - val_accuracy: 0.0112\n",
      "Epoch 11/40\n",
      "157/157 [==============================] - 0s 1ms/step - loss: 0.5627 - accuracy: 0.9632 - val_loss: 13.5850 - val_accuracy: 0.0128\n",
      "Epoch 12/40\n",
      "157/157 [==============================] - 0s 1ms/step - loss: 0.5377 - accuracy: 0.9648 - val_loss: 12.7645 - val_accuracy: 0.0272\n",
      "Epoch 13/40\n",
      "157/157 [==============================] - 0s 1ms/step - loss: 0.5191 - accuracy: 0.9660 - val_loss: 13.0016 - val_accuracy: 0.0256\n",
      "Epoch 14/40\n",
      "157/157 [==============================] - 0s 1ms/step - loss: 0.5126 - accuracy: 0.9668 - val_loss: 13.0074 - val_accuracy: 0.0256\n",
      "Epoch 15/40\n",
      "157/157 [==============================] - 0s 1ms/step - loss: 0.5313 - accuracy: 0.9656 - val_loss: 13.2750 - val_accuracy: 0.0160\n",
      "Epoch 16/40\n",
      "157/157 [==============================] - 0s 1ms/step - loss: 0.5633 - accuracy: 0.9632 - val_loss: 13.2336 - val_accuracy: 0.0128\n",
      "Epoch 17/40\n",
      "157/157 [==============================] - 0s 1ms/step - loss: 0.5372 - accuracy: 0.9648 - val_loss: 13.4930 - val_accuracy: 0.0128\n",
      "Epoch 18/40\n",
      "157/157 [==============================] - 0s 1ms/step - loss: 0.5494 - accuracy: 0.9644 - val_loss: 13.3100 - val_accuracy: 0.0192\n",
      "Epoch 19/40\n",
      "157/157 [==============================] - 0s 1ms/step - loss: 0.5309 - accuracy: 0.9656 - val_loss: 13.3550 - val_accuracy: 0.0256\n",
      "Epoch 20/40\n",
      "157/157 [==============================] - 0s 1ms/step - loss: 0.5369 - accuracy: 0.9652 - val_loss: 13.7001 - val_accuracy: 0.0160\n",
      "Epoch 21/40\n",
      "157/157 [==============================] - 0s 1ms/step - loss: 0.5497 - accuracy: 0.9632 - val_loss: 12.3731 - val_accuracy: 0.0511\n",
      "Epoch 22/40\n",
      "157/157 [==============================] - 0s 1ms/step - loss: 0.4430 - accuracy: 0.9660 - val_loss: 4.7972 - val_accuracy: 0.1438\n",
      "Epoch 23/40\n",
      "157/157 [==============================] - 0s 1ms/step - loss: 0.3935 - accuracy: 0.9648 - val_loss: 8.7303 - val_accuracy: 0.1166\n",
      "Epoch 24/40\n",
      "157/157 [==============================] - 0s 1ms/step - loss: 0.4077 - accuracy: 0.9636 - val_loss: 8.7951 - val_accuracy: 0.0687\n",
      "Epoch 25/40\n",
      "157/157 [==============================] - 0s 1ms/step - loss: 0.3664 - accuracy: 0.9664 - val_loss: 7.9730 - val_accuracy: 0.1118\n",
      "Epoch 26/40\n",
      "157/157 [==============================] - 0s 1ms/step - loss: 0.3658 - accuracy: 0.9640 - val_loss: 6.0295 - val_accuracy: 0.1725\n",
      "Epoch 27/40\n",
      "157/157 [==============================] - 0s 1ms/step - loss: 0.3449 - accuracy: 0.9656 - val_loss: 6.4255 - val_accuracy: 0.1422\n",
      "Epoch 28/40\n",
      "157/157 [==============================] - 0s 1ms/step - loss: 0.3644 - accuracy: 0.9656 - val_loss: 7.5874 - val_accuracy: 0.1278\n",
      "Epoch 29/40\n",
      "157/157 [==============================] - 0s 1ms/step - loss: 0.3439 - accuracy: 0.9636 - val_loss: 7.1197 - val_accuracy: 0.1342\n",
      "Epoch 30/40\n",
      "157/157 [==============================] - 0s 1ms/step - loss: 0.3464 - accuracy: 0.9680 - val_loss: 7.5189 - val_accuracy: 0.1486\n",
      "Epoch 31/40\n",
      "157/157 [==============================] - 0s 1ms/step - loss: 0.3427 - accuracy: 0.9676 - val_loss: 7.6842 - val_accuracy: 0.1278\n",
      "Epoch 32/40\n",
      "157/157 [==============================] - 0s 1ms/step - loss: 0.3793 - accuracy: 0.9680 - val_loss: 8.8887 - val_accuracy: 0.1246\n",
      "Epoch 33/40\n",
      "157/157 [==============================] - 0s 1ms/step - loss: 0.3527 - accuracy: 0.9688 - val_loss: 9.2948 - val_accuracy: 0.1150\n",
      "Epoch 34/40\n",
      "157/157 [==============================] - 0s 1ms/step - loss: 0.3691 - accuracy: 0.9668 - val_loss: 8.4674 - val_accuracy: 0.1502\n",
      "Epoch 35/40\n",
      "157/157 [==============================] - 0s 1ms/step - loss: 0.3548 - accuracy: 0.9664 - val_loss: 8.8380 - val_accuracy: 0.1374\n",
      "Epoch 36/40\n",
      "157/157 [==============================] - 0s 1ms/step - loss: 0.3366 - accuracy: 0.9708 - val_loss: 8.0470 - val_accuracy: 0.1310\n",
      "Epoch 37/40\n",
      "157/157 [==============================] - 0s 1ms/step - loss: 0.3511 - accuracy: 0.9672 - val_loss: 9.0637 - val_accuracy: 0.1150\n",
      "Epoch 38/40\n",
      "157/157 [==============================] - 0s 1ms/step - loss: 0.3461 - accuracy: 0.9692 - val_loss: 9.1729 - val_accuracy: 0.1246\n",
      "Epoch 39/40\n",
      "157/157 [==============================] - 0s 1ms/step - loss: 0.3382 - accuracy: 0.9680 - val_loss: 6.6909 - val_accuracy: 0.1326\n",
      "Epoch 40/40\n",
      "157/157 [==============================] - 0s 1ms/step - loss: 0.2840 - accuracy: 0.9656 - val_loss: 7.8233 - val_accuracy: 0.1182\n",
      "Model: \"sequential_39\"\n",
      "_________________________________________________________________\n",
      "Layer (type)                 Output Shape              Param #   \n",
      "=================================================================\n",
      "dense_114 (Dense)            (None, 10)                3370      \n",
      "_________________________________________________________________\n",
      "dropout_67 (Dropout)         (None, 10)                0         \n",
      "_________________________________________________________________\n",
      "dense_115 (Dense)            (None, 5)                 55        \n",
      "_________________________________________________________________\n",
      "dropout_68 (Dropout)         (None, 5)                 0         \n",
      "_________________________________________________________________\n",
      "dense_116 (Dense)            (None, 1)                 6         \n",
      "=================================================================\n",
      "Total params: 3,431\n",
      "Trainable params: 3,431\n",
      "Non-trainable params: 0\n",
      "_________________________________________________________________\n"
     ]
    }
   ],
   "source": [
    "model = Sequential()\n",
    "model.add(Dense(10, input_dim=num_features, activation='relu'))\n",
    "model.add(Dropout(0.25))\n",
    "model.add(Dense(5, activation='relu',kernel_regularizer=tf.keras.regularizers.l2(1e-4)))\n",
    "model.add(Dropout(0.1))\n",
    "model.add(Dense(1, activation='relu'))\n",
    "\n",
    "model.compile(optimizer='adam',\n",
    "              loss='binary_crossentropy',\n",
    "              metrics=['accuracy'])\n",
    "\n",
    "\n",
    "history = model.fit([X_train],\n",
    "                    y_train, \n",
    "                    epochs=40, \n",
    "                    batch_size=16, \n",
    "                    verbose=1, \n",
    "                    validation_split = .2)\n",
    "\n",
    "model.summary()"
   ]
  },
  {
   "cell_type": "code",
   "execution_count": 223,
   "metadata": {},
   "outputs": [
    {
     "data": {
      "text/plain": [
       "Text(0.5, 0, 'epochs')"
      ]
     },
     "execution_count": 223,
     "metadata": {},
     "output_type": "execute_result"
    },
    {
     "data": {
      "image/png": "[encoded data removed]",
      "text/plain": [
       "<Figure size 432x288 with 2 Axes>"
      ]
     },
     "metadata": {
      "needs_background": "light"
     },
     "output_type": "display_data"
    }
   ],
   "source": [
    "\n",
    "plt.subplot(2,2,3)\n",
    "plt.plot(history.history['loss'])\n",
    "plt.ylabel('Training Loss')\n",
    "plt.xlabel('epochs')\n",
    "\n",
    "plt.subplot(2,2,4)\n",
    "plt.plot(history.history['val_loss'])\n",
    "plt.ylabel('Validation Loss')\n",
    "plt.xlabel('epochs')"
   ]
  },
  {
   "cell_type": "code",
   "execution_count": 224,
   "metadata": {},
   "outputs": [
    {
     "name": "stdout",
     "output_type": "stream",
     "text": [
      "[[1061    3]\n",
      " [  28    1]]\n",
      "              precision    recall  f1-score   support\n",
      "\n",
      "           0       0.97      1.00      0.99      1064\n",
      "           1       0.25      0.03      0.06        29\n",
      "\n",
      "    accuracy                           0.97      1093\n",
      "   macro avg       0.61      0.52      0.52      1093\n",
      "weighted avg       0.96      0.97      0.96      1093\n",
      "\n"
     ]
    }
   ],
   "source": [
    "# now lets see how well the model performed\n",
    "yhat_proba = model.predict(X_test)\n",
    "yhat = np.where(yhat_proba > 0.5, 1, 0)\n",
    "print(mt.confusion_matrix(y_test,yhat))\n",
    "print(mt.classification_report(y_test,yhat))\n"
   ]
  },
  {
   "cell_type": "markdown",
   "metadata": {},
   "source": [
    "It does look like the model really struggles to find the global minima and that is to be expected with small data. Last thing I will try is to increase the batch size. I keep in scale of 2. "
   ]
  },
  {
   "cell_type": "code",
   "execution_count": 225,
   "metadata": {},
   "outputs": [
    {
     "name": "stdout",
     "output_type": "stream",
     "text": [
      "Epoch 1/40\n",
      "105/105 [==============================] - 0s 2ms/step - loss: 0.7482 - accuracy: 0.9496 - val_loss: 15.4039 - val_accuracy: 0.0000e+00\n",
      "Epoch 2/40\n",
      "105/105 [==============================] - 0s 1ms/step - loss: 0.7608 - accuracy: 0.9504 - val_loss: 15.4059 - val_accuracy: 0.0000e+00\n",
      "Epoch 3/40\n",
      "105/105 [==============================] - 0s 1ms/step - loss: 0.7443 - accuracy: 0.9508 - val_loss: 15.4258 - val_accuracy: 0.0000e+00\n",
      "Epoch 4/40\n",
      "105/105 [==============================] - 0s 1ms/step - loss: 0.7442 - accuracy: 0.9512 - val_loss: 15.4258 - val_accuracy: 0.0000e+00\n",
      "Epoch 5/40\n",
      "105/105 [==============================] - 0s 1ms/step - loss: 0.7440 - accuracy: 0.9512 - val_loss: 15.4258 - val_accuracy: 0.0000e+00\n",
      "Epoch 6/40\n",
      "105/105 [==============================] - 0s 1ms/step - loss: 0.7277 - accuracy: 0.9508 - val_loss: 15.4258 - val_accuracy: 0.0000e+00\n",
      "Epoch 7/40\n",
      "105/105 [==============================] - 0s 1ms/step - loss: 0.7066 - accuracy: 0.9512 - val_loss: 15.4257 - val_accuracy: 0.0000e+00\n",
      "Epoch 8/40\n",
      "105/105 [==============================] - 0s 1ms/step - loss: 0.7073 - accuracy: 0.9508 - val_loss: 15.4257 - val_accuracy: 0.0000e+00\n",
      "Epoch 9/40\n",
      "105/105 [==============================] - 0s 1ms/step - loss: 0.7218 - accuracy: 0.9508 - val_loss: 15.4257 - val_accuracy: 0.0000e+00\n",
      "Epoch 10/40\n",
      "105/105 [==============================] - 0s 1ms/step - loss: 0.7197 - accuracy: 0.9512 - val_loss: 15.4257 - val_accuracy: 0.0000e+00\n",
      "Epoch 11/40\n",
      "105/105 [==============================] - 0s 1ms/step - loss: 0.7246 - accuracy: 0.9512 - val_loss: 15.4257 - val_accuracy: 0.0000e+00\n",
      "Epoch 12/40\n",
      "105/105 [==============================] - 0s 1ms/step - loss: 0.6690 - accuracy: 0.9512 - val_loss: 15.4257 - val_accuracy: 0.0000e+00\n",
      "Epoch 13/40\n",
      "105/105 [==============================] - 0s 1ms/step - loss: 0.7305 - accuracy: 0.9512 - val_loss: 15.4257 - val_accuracy: 0.0000e+00\n",
      "Epoch 14/40\n",
      "105/105 [==============================] - 0s 1ms/step - loss: 0.7079 - accuracy: 0.9512 - val_loss: 15.4257 - val_accuracy: 0.0000e+00\n",
      "Epoch 15/40\n",
      "105/105 [==============================] - 0s 1ms/step - loss: 0.7081 - accuracy: 0.9512 - val_loss: 15.4257 - val_accuracy: 0.0000e+00\n",
      "Epoch 16/40\n",
      "105/105 [==============================] - 0s 1ms/step - loss: 0.7290 - accuracy: 0.9512 - val_loss: 15.4257 - val_accuracy: 0.0000e+00\n",
      "Epoch 17/40\n",
      "105/105 [==============================] - 0s 1ms/step - loss: 0.7184 - accuracy: 0.9512 - val_loss: 15.4257 - val_accuracy: 0.0000e+00\n",
      "Epoch 18/40\n",
      "105/105 [==============================] - 0s 1ms/step - loss: 0.7391 - accuracy: 0.9512 - val_loss: 15.4257 - val_accuracy: 0.0000e+00\n",
      "Epoch 19/40\n",
      "105/105 [==============================] - 0s 1ms/step - loss: 0.7078 - accuracy: 0.9512 - val_loss: 15.4257 - val_accuracy: 0.0000e+00\n",
      "Epoch 20/40\n",
      "105/105 [==============================] - 0s 1ms/step - loss: 0.6986 - accuracy: 0.9512 - val_loss: 15.4257 - val_accuracy: 0.0000e+00\n",
      "Epoch 21/40\n",
      "105/105 [==============================] - 0s 1ms/step - loss: 0.6930 - accuracy: 0.9512 - val_loss: 15.4257 - val_accuracy: 0.0000e+00\n",
      "Epoch 22/40\n",
      "105/105 [==============================] - 0s 1ms/step - loss: 0.7024 - accuracy: 0.9512 - val_loss: 15.4257 - val_accuracy: 0.0000e+00\n",
      "Epoch 23/40\n",
      "105/105 [==============================] - 0s 2ms/step - loss: 0.7331 - accuracy: 0.9512 - val_loss: 15.4257 - val_accuracy: 0.0000e+00\n",
      "Epoch 24/40\n",
      "105/105 [==============================] - 0s 1ms/step - loss: 0.7121 - accuracy: 0.9512 - val_loss: 15.4257 - val_accuracy: 0.0000e+00\n",
      "Epoch 25/40\n",
      "105/105 [==============================] - 0s 1ms/step - loss: 0.7128 - accuracy: 0.9512 - val_loss: 15.4256 - val_accuracy: 0.0000e+00\n",
      "Epoch 26/40\n",
      "105/105 [==============================] - 0s 1ms/step - loss: 0.6756 - accuracy: 0.9512 - val_loss: 15.4256 - val_accuracy: 0.0000e+00\n",
      "Epoch 27/40\n",
      "105/105 [==============================] - 0s 1ms/step - loss: 0.6817 - accuracy: 0.9512 - val_loss: 15.4256 - val_accuracy: 0.0000e+00\n",
      "Epoch 28/40\n",
      "105/105 [==============================] - 0s 1ms/step - loss: 0.6868 - accuracy: 0.9512 - val_loss: 15.4256 - val_accuracy: 0.0000e+00\n",
      "Epoch 29/40\n",
      "105/105 [==============================] - 0s 1ms/step - loss: 0.6753 - accuracy: 0.9512 - val_loss: 15.4256 - val_accuracy: 0.0000e+00\n",
      "Epoch 30/40\n",
      "105/105 [==============================] - 0s 1ms/step - loss: 0.6847 - accuracy: 0.9512 - val_loss: 15.4256 - val_accuracy: 0.0000e+00\n",
      "Epoch 31/40\n",
      "105/105 [==============================] - 0s 1ms/step - loss: 0.7002 - accuracy: 0.9512 - val_loss: 15.4256 - val_accuracy: 0.0000e+00\n",
      "Epoch 32/40\n",
      "105/105 [==============================] - 0s 2ms/step - loss: 0.6334 - accuracy: 0.9512 - val_loss: 15.4256 - val_accuracy: 0.0000e+00\n",
      "Epoch 33/40\n",
      "105/105 [==============================] - 0s 2ms/step - loss: 0.6548 - accuracy: 0.9520 - val_loss: 15.4256 - val_accuracy: 0.0000e+00\n",
      "Epoch 34/40\n",
      "105/105 [==============================] - 0s 2ms/step - loss: 0.6666 - accuracy: 0.9516 - val_loss: 15.4256 - val_accuracy: 0.0000e+00\n",
      "Epoch 35/40\n",
      "105/105 [==============================] - 0s 2ms/step - loss: 0.6679 - accuracy: 0.9508 - val_loss: 15.4256 - val_accuracy: 0.0000e+00\n",
      "Epoch 36/40\n",
      "105/105 [==============================] - 0s 1ms/step - loss: 0.6853 - accuracy: 0.9532 - val_loss: 15.4256 - val_accuracy: 0.0000e+00\n",
      "Epoch 37/40\n",
      "105/105 [==============================] - 0s 1ms/step - loss: 0.6880 - accuracy: 0.9528 - val_loss: 15.4256 - val_accuracy: 0.0000e+00\n",
      "Epoch 38/40\n",
      "105/105 [==============================] - 0s 1ms/step - loss: 0.6672 - accuracy: 0.9532 - val_loss: 15.4256 - val_accuracy: 0.0000e+00\n",
      "Epoch 39/40\n",
      "105/105 [==============================] - 0s 1ms/step - loss: 0.6862 - accuracy: 0.9528 - val_loss: 15.4256 - val_accuracy: 0.0000e+00\n",
      "Epoch 40/40\n",
      "105/105 [==============================] - 0s 2ms/step - loss: 0.6979 - accuracy: 0.9520 - val_loss: 15.4256 - val_accuracy: 0.0000e+00\n",
      "Model: \"sequential_40\"\n",
      "_________________________________________________________________\n",
      "Layer (type)                 Output Shape              Param #   \n",
      "=================================================================\n",
      "dense_117 (Dense)            (None, 10)                3370      \n",
      "_________________________________________________________________\n",
      "dropout_69 (Dropout)         (None, 10)                0         \n",
      "_________________________________________________________________\n",
      "dense_118 (Dense)            (None, 5)                 55        \n",
      "_________________________________________________________________\n",
      "dropout_70 (Dropout)         (None, 5)                 0         \n",
      "_________________________________________________________________\n",
      "dense_119 (Dense)            (None, 1)                 6         \n",
      "=================================================================\n",
      "Total params: 3,431\n",
      "Trainable params: 3,431\n",
      "Non-trainable params: 0\n",
      "_________________________________________________________________\n"
     ]
    }
   ],
   "source": [
    "model = Sequential()\n",
    "model.add(Dense(10, input_dim=num_features, activation='relu'))\n",
    "model.add(Dropout(0.25))\n",
    "model.add(Dense(5, activation='relu',kernel_regularizer=tf.keras.regularizers.l2(1e-4)))\n",
    "model.add(Dropout(0.1))\n",
    "model.add(Dense(1, activation='relu'))\n",
    "\n",
    "model.compile(optimizer='adam',\n",
    "              loss='binary_crossentropy',\n",
    "              metrics=['accuracy'])\n",
    "\n",
    "\n",
    "history = model.fit([X_train],\n",
    "                    y_train, \n",
    "                    epochs=40, \n",
    "                    batch_size=24, \n",
    "                    verbose=1, \n",
    "                    validation_split = .2)\n",
    "\n",
    "model.summary()"
   ]
  },
  {
   "cell_type": "code",
   "execution_count": 226,
   "metadata": {},
   "outputs": [
    {
     "data": {
      "text/plain": [
       "Text(0.5, 0, 'epochs')"
      ]
     },
     "execution_count": 226,
     "metadata": {},
     "output_type": "execute_result"
    },
    {
     "data": {
      "image/png": "[encoded data removed]",
      "text/plain": [
       "<Figure size 432x288 with 2 Axes>"
      ]
     },
     "metadata": {
      "needs_background": "light"
     },
     "output_type": "display_data"
    }
   ],
   "source": [
    "plt.subplot(2,2,3)\n",
    "plt.plot(history.history['loss'])\n",
    "plt.ylabel('Training Loss')\n",
    "plt.xlabel('epochs')\n",
    "\n",
    "plt.subplot(2,2,4)\n",
    "plt.plot(history.history['val_loss'])\n",
    "plt.ylabel('Validation Loss')\n",
    "plt.xlabel('epochs')"
   ]
  },
  {
   "cell_type": "code",
   "execution_count": 227,
   "metadata": {},
   "outputs": [
    {
     "name": "stdout",
     "output_type": "stream",
     "text": [
      "[[1064    0]\n",
      " [  29    0]]\n",
      "              precision    recall  f1-score   support\n",
      "\n",
      "           0       0.97      1.00      0.99      1064\n",
      "           1       0.00      0.00      0.00        29\n",
      "\n",
      "    accuracy                           0.97      1093\n",
      "   macro avg       0.49      0.50      0.49      1093\n",
      "weighted avg       0.95      0.97      0.96      1093\n",
      "\n"
     ]
    }
   ],
   "source": [
    "\n",
    "# now lets see how well the model performed\n",
    "yhat_proba = model.predict(X_test)\n",
    "yhat = np.where(yhat_proba > 0.5, 1, 0)\n",
    "print(mt.confusion_matrix(y_test,yhat))\n",
    "print(mt.classification_report(y_test,yhat))\n"
   ]
  },
  {
   "cell_type": "markdown",
   "metadata": {},
   "source": [
    "The model just predicts 0 for the entire dataset with larger batch size. "
   ]
  },
  {
   "cell_type": "markdown",
   "metadata": {},
   "source": [
    "# Conclusion \n",
    "There does not seem to be anything really here in the data. It is tough to avoid phacking by continuing on and modifying and I do not really see any noticable improvement on a random guess. More data would most likely be helpful. "
   ]
  }
 ],
 "metadata": {
  "anaconda-cloud": {},
  "kernelspec": {
   "display_name": "Python 3",
   "language": "python",
   "name": "python3"
  },
  "language_info": {
   "codemirror_mode": {
    "name": "ipython",
    "version": 3
   },
   "file_extension": ".py",
   "mimetype": "text/x-python",
   "name": "python",
   "nbconvert_exporter": "python",
   "pygments_lexer": "ipython3",
   "version": "3.7.4"
  }
 },
 "nbformat": 4,
 "nbformat_minor": 2
}
